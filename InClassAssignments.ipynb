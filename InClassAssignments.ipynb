{
  "nbformat": 4,
  "nbformat_minor": 0,
  "metadata": {
    "colab": {
      "provenance": [],
      "authorship_tag": "ABX9TyPs/2LukMvNRFTjdew5zJrV",
      "include_colab_link": true
    },
    "kernelspec": {
      "name": "python3",
      "display_name": "Python 3"
    },
    "language_info": {
      "name": "python"
    }
  },
  "cells": [
    {
      "cell_type": "markdown",
      "metadata": {
        "id": "view-in-github",
        "colab_type": "text"
      },
      "source": [
        "<a href=\"https://colab.research.google.com/github/amypounder/BTE320/blob/main/InClassAssignments.ipynb\" target=\"_parent\"><img src=\"https://colab.research.google.com/assets/colab-badge.svg\" alt=\"Open In Colab\"/></a>"
      ]
    },
    {
      "cell_type": "code",
      "execution_count": null,
      "metadata": {
        "colab": {
          "base_uri": "https://localhost:8080/"
        },
        "id": "jp3agEGVIZiD",
        "outputId": "6c1a6641-c1ab-489d-b2eb-a7311e615a6d"
      },
      "outputs": [
        {
          "output_type": "stream",
          "name": "stdout",
          "text": [
            "Enter sales ($): 12000\n",
            "Sales: 12000.0\n",
            "Enter % of cost of goods sold: 40\n",
            "Cost of Goods Sold Percentage :  40.0\n",
            "Cost of Goods Sold: 4800.0\n",
            "Gross Profit:  7200.0\n",
            "Enter Tax rate (%): 30\n",
            "Tax Rate:  30.0\n",
            "Tax Amount:  2160.0\n",
            "Net Income:  5040.0\n"
          ]
        }
      ],
      "source": [
        "#Assignment 1\n",
        "# we want to input sales, and % of cost of goods sold\n",
        "\n",
        "sales = float(input(\"Enter sales ($): \"))\n",
        "print(\"Sales:\", sales)\n",
        "cost_of_goods = float(input(\"Enter % of cost of goods sold: \"))\n",
        "print(f'Cost of Goods Sold Percentage : ${cost_of_goods}')\n",
        "cost_of_goods_sold = sales * cost_of_goods /100\n",
        "print(\"Cost of Goods Sold:\" ,cost_of_goods_sold)\n",
        "gross_profit = float(sales - cost_of_goods_sold)\n",
        "print(\"Gross Profit: \" , gross_profit)\n",
        "\n",
        "tax_rate = float(input(\"Enter Tax rate (%): \"))\n",
        "print(\"Tax Rate: \" , tax_rate)\n",
        "tax_amount = float(gross_profit * tax_rate /100)\n",
        "print(\"Tax Amount: \" , tax_amount)\n",
        "\n",
        "net_income = float(gross_profit - tax_amount)\n",
        "print(\"Net Income: \" , net_income)\n",
        "\n",
        "\n",
        "\n",
        "\n"
      ]
    },
    {
      "cell_type": "code",
      "source": [
        "# Assignment 2\n",
        "\n",
        "# Inputs:  cost of restocking the item, cost of storing items, and annual demand\n",
        "\n",
        "#instead of doing import math, I can just use the exponential function and do it to the power of 0.5\n",
        "\n",
        "annual_demand = int(input(\"Enter annual demand (units/year): \"))\n",
        "print(\"Annual Demand: \" , annual_demand)\n",
        "cost_of_reorder = float(input(\"Enter cost of reorder the item ($/unit): \"))\n",
        "print(\"Cost of Restocking: \" , cost_of_reorder)\n",
        "cost_of_holding = float(input(\"Enter cost of hold items ($/unit/year): \"))\n",
        "print(\"Cost of Holding: \" , cost_of_holding)\n",
        "\n",
        "#Outputs: How much of the item to reorder to minimize annual ordering and storing costs (EOQ)\n",
        "\n",
        "economic_order_quantity = ((2 * annual_demand * cost_of_reorder) / cost_of_holding) ** 0.5\n",
        "print(f\"Economic Order Quantity: {economic_order_quantity} units \" )\n",
        "\n",
        "\n",
        "\n"
      ],
      "metadata": {
        "colab": {
          "base_uri": "https://localhost:8080/"
        },
        "id": "kCFhNlAEIjG5",
        "outputId": "0f2e0588-5516-472c-ae35-698de827fc57"
      },
      "execution_count": null,
      "outputs": [
        {
          "output_type": "stream",
          "name": "stdout",
          "text": [
            "Enter annual demand (units/year): 100\n",
            "Annual Demand:  100\n",
            "Enter cost of reorder the item ($/unit): 1.5\n",
            "Cost of Restocking:  1.5\n",
            "Enter cost of hold items ($/unit/year): 3\n",
            "Cost of Holding:  3.0\n",
            "Economic Order Quantity: 10.0 units \n"
          ]
        }
      ]
    },
    {
      "cell_type": "code",
      "source": [
        "# Assignment 3\n",
        "\n",
        "#design a simple numerical calculator in Python. The user needs to provide three inputs: two numbers and the mathematical operator of their choice. The program should print the output on the screen\n",
        "\n",
        "#step 1: get the numbers and inputs from the user\n",
        "num1 = float(input(\"Enter first number: \"))\n",
        "num2 = float(input(\"Enter second number: \"))\n",
        "operator = input(\"Enter operator (+,-,*,/,//,**,%): \")\n",
        "\n",
        "#Step 2: check which operator they put in and so the calulation for them, also check if they input something wrong it ssays invalid\n",
        "# You should have 7 operators\n",
        "if operator == '+':\n",
        "    result = num1 + num2\n",
        "elif operator == '-':\n",
        "    result = num1 - num2\n",
        "elif operator == '*':\n",
        "    result = num1 * num2\n",
        "elif operator == '/':\n",
        "    result = num1 / num2\n",
        "elif operator == '**':\n",
        "    result = num1 ** num2\n",
        "elif operator == '%':\n",
        "    result = num1 % num2\n",
        "elif operator == '//':\n",
        "    result = num1 // num2\n",
        "else:\n",
        "    print(\"Invalid operator\")\n",
        "    result = None\n",
        "\n",
        "#Step 3: Print the results\n",
        "print(\"First Number: \" , num1)\n",
        "print(\"Second Number: \" , num2)\n",
        "print(\"Operator: \" , operator)\n",
        "print(\"Result: \" , result)\n",
        "\n"
      ],
      "metadata": {
        "id": "CboDiMWNJhhk",
        "colab": {
          "base_uri": "https://localhost:8080/"
        },
        "outputId": "56e7c0f6-62e4-42a5-dfb9-e4cd66aeabe7"
      },
      "execution_count": null,
      "outputs": [
        {
          "output_type": "stream",
          "name": "stdout",
          "text": [
            "Enter first number: 5\n",
            "Enter second number: 5\n",
            "Enter operator (+,-,*,/,//,**,%): *\n",
            "First Number:  5.0\n",
            "Second Number:  5.0\n",
            "Operator:  *\n",
            "Result:  25.0\n"
          ]
        }
      ]
    },
    {
      "cell_type": "code",
      "source": [
        "#Assignment 4\n",
        "#A parking garage charges $5 plus $2.50 for each hour parked\n",
        "#write a program that prints the number of hours parked and the corresponding fee side-by-by, from 1 to 8 hours\n",
        "# bonus: the minimum ffee is $10 and the maxium fee is $20\n",
        "\n",
        "for hours in range(1, 9):\n",
        "    fee = 5 + hours * 2.5\n",
        "    if fee < 10:\n",
        "        fee = 10\n",
        "    elif fee > 20:\n",
        "        fee = 20\n",
        "    print(f\"{hours} {fee}\")\n"
      ],
      "metadata": {
        "colab": {
          "base_uri": "https://localhost:8080/"
        },
        "id": "o3U0pwA4gXqm",
        "outputId": "e6d0f058-9c9c-43ad-c6eb-7a5110750172"
      },
      "execution_count": null,
      "outputs": [
        {
          "output_type": "stream",
          "name": "stdout",
          "text": [
            "1 10\n",
            "2 10.0\n",
            "3 12.5\n",
            "4 15.0\n",
            "5 17.5\n",
            "6 20.0\n",
            "7 20\n",
            "8 20\n"
          ]
        }
      ]
    },
    {
      "cell_type": "code",
      "source": [
        "# Assignmenmt 5\n",
        "# movie theater\n",
        "\n",
        "for ad in range(0,201,25):\n",
        "  revenue = 10 * (20 + 2 * ad ** 0.5) - 200 - ad\n",
        "  print(ad, round(revenue,0))"
      ],
      "metadata": {
        "colab": {
          "base_uri": "https://localhost:8080/"
        },
        "id": "MgduE13qgEP6",
        "outputId": "ce650590-4a93-4ab5-ed2b-1c608beb807e"
      },
      "execution_count": 1,
      "outputs": [
        {
          "output_type": "stream",
          "name": "stdout",
          "text": [
            "0 0.0\n",
            "25 75.0\n",
            "50 91.0\n",
            "75 98.0\n",
            "100 100.0\n",
            "125 99.0\n",
            "150 95.0\n",
            "175 90.0\n",
            "200 83.0\n"
          ]
        }
      ]
    }
  ]
}