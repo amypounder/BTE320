{
  "nbformat": 4,
  "nbformat_minor": 0,
  "metadata": {
    "colab": {
      "provenance": [],
      "authorship_tag": "ABX9TyOETXCjIrRmMKziUpq8G7oL",
      "include_colab_link": true
    },
    "kernelspec": {
      "name": "python3",
      "display_name": "Python 3"
    },
    "language_info": {
      "name": "python"
    }
  },
  "cells": [
    {
      "cell_type": "markdown",
      "metadata": {
        "id": "view-in-github",
        "colab_type": "text"
      },
      "source": [
        "<a href=\"https://colab.research.google.com/github/amypounder/BTE320/blob/main/InClassAssignments.ipynb\" target=\"_parent\"><img src=\"https://colab.research.google.com/assets/colab-badge.svg\" alt=\"Open In Colab\"/></a>"
      ]
    },
    {
      "cell_type": "code",
      "execution_count": null,
      "metadata": {
        "colab": {
          "base_uri": "https://localhost:8080/"
        },
        "id": "jp3agEGVIZiD",
        "outputId": "6c1a6641-c1ab-489d-b2eb-a7311e615a6d"
      },
      "outputs": [
        {
          "output_type": "stream",
          "name": "stdout",
          "text": [
            "Enter sales ($): 12000\n",
            "Sales: 12000.0\n",
            "Enter % of cost of goods sold: 40\n",
            "Cost of Goods Sold Percentage :  40.0\n",
            "Cost of Goods Sold: 4800.0\n",
            "Gross Profit:  7200.0\n",
            "Enter Tax rate (%): 30\n",
            "Tax Rate:  30.0\n",
            "Tax Amount:  2160.0\n",
            "Net Income:  5040.0\n"
          ]
        }
      ],
      "source": [
        "#Assignment 1\n",
        "# we want to input sales, and % of cost of goods sold\n",
        "\n",
        "sales = float(input(\"Enter sales ($): \"))\n",
        "print(\"Sales:\", sales)\n",
        "cost_of_goods = float(input(\"Enter % of cost of goods sold: \"))\n",
        "print(f'Cost of Goods Sold Percentage : ${cost_of_goods}')\n",
        "cost_of_goods_sold = sales * cost_of_goods /100\n",
        "print(\"Cost of Goods Sold:\" ,cost_of_goods_sold)\n",
        "gross_profit = float(sales - cost_of_goods_sold)\n",
        "print(\"Gross Profit: \" , gross_profit)\n",
        "\n",
        "tax_rate = float(input(\"Enter Tax rate (%): \"))\n",
        "print(\"Tax Rate: \" , tax_rate)\n",
        "tax_amount = float(gross_profit * tax_rate /100)\n",
        "print(\"Tax Amount: \" , tax_amount)\n",
        "\n",
        "net_income = float(gross_profit - tax_amount)\n",
        "print(\"Net Income: \" , net_income)\n",
        "\n",
        "\n",
        "\n",
        "\n"
      ]
    },
    {
      "cell_type": "code",
      "source": [
        "# Assignment 2\n",
        "\n",
        "# Inputs:  cost of restocking the item, cost of storing items, and annual demand\n",
        "\n",
        "#instead of doing import math, I can just use the exponential function and do it to the power of 0.5\n",
        "\n",
        "annual_demand = int(input(\"Enter annual demand (units/year): \"))\n",
        "print(\"Annual Demand: \" , annual_demand)\n",
        "cost_of_reorder = float(input(\"Enter cost of reorder the item ($/unit): \"))\n",
        "print(\"Cost of Restocking: \" , cost_of_reorder)\n",
        "cost_of_holding = float(input(\"Enter cost of hold items ($/unit/year): \"))\n",
        "print(\"Cost of Holding: \" , cost_of_holding)\n",
        "\n",
        "#Outputs: How much of the item to reorder to minimize annual ordering and storing costs (EOQ)\n",
        "\n",
        "economic_order_quantity = ((2 * annual_demand * cost_of_reorder) / cost_of_holding) ** 0.5\n",
        "print(f\"Economic Order Quantity: {economic_order_quantity} units \" )\n",
        "\n",
        "\n",
        "\n"
      ],
      "metadata": {
        "colab": {
          "base_uri": "https://localhost:8080/"
        },
        "id": "kCFhNlAEIjG5",
        "outputId": "0f2e0588-5516-472c-ae35-698de827fc57"
      },
      "execution_count": 9,
      "outputs": [
        {
          "output_type": "stream",
          "name": "stdout",
          "text": [
            "Enter annual demand (units/year): 100\n",
            "Annual Demand:  100\n",
            "Enter cost of reorder the item ($/unit): 1.5\n",
            "Cost of Restocking:  1.5\n",
            "Enter cost of hold items ($/unit/year): 3\n",
            "Cost of Holding:  3.0\n",
            "Economic Order Quantity: 10.0 units \n"
          ]
        }
      ]
    },
    {
      "cell_type": "code",
      "source": [
        "\n"
      ],
      "metadata": {
        "id": "CboDiMWNJhhk"
      },
      "execution_count": null,
      "outputs": []
    }
  ]
}